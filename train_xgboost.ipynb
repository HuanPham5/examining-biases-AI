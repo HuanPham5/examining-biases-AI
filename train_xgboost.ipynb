{
 "cells": [
  {
   "cell_type": "code",
   "execution_count": 1,
   "metadata": {},
   "outputs": [],
   "source": [
    "import re\n",
    "import numpy as np\n",
    "import pandas as pd\n",
    "from sklearn.model_selection import train_test_split\n",
    "from sklearn.preprocessing import StandardScaler\n",
    "from sklearn.metrics import accuracy_score, balanced_accuracy_score, classification_report, roc_auc_score\n",
    "from imblearn.combine import SMOTETomek\n",
    "from sklearn.ensemble import RandomForestClassifier\n",
    "from sklearn.model_selection import RandomizedSearchCV\n",
    "from sklearn.model_selection import GridSearchCV\n",
    "import xgboost as xgb"
   ]
  },
  {
   "cell_type": "code",
   "execution_count": 2,
   "metadata": {},
   "outputs": [
    {
     "name": "stderr",
     "output_type": "stream",
     "text": [
      "C:\\Users\\josep\\AppData\\Local\\Temp\\ipykernel_16844\\1499033889.py:2: DtypeWarning: Columns (22,38,46) have mixed types. Specify dtype option on import or set low_memory=False.\n",
      "  df = pd.read_csv('2021_public_lar.csv',usecols=['state_code','derived_loan_product_type','derived_dwelling_category'\n"
     ]
    }
   ],
   "source": [
    "pd.set_option('display.max_columns', None)\n",
    "df = pd.read_csv('2021_public_lar.csv',usecols=['state_code','derived_loan_product_type','derived_dwelling_category'\n",
    "                                                ,'derived_race','applicant_race_1','action_taken',\n",
    "                                                'loan_purpose','business_or_commercial_purpose',\n",
    "                                                'loan_amount','combined_loan_to_value_ratio',\n",
    "                                                'property_value','occupancy_type','income',\n",
    "                                                'debt_to_income_ratio'])"
   ]
  },
  {
   "cell_type": "code",
   "execution_count": 3,
   "metadata": {},
   "outputs": [],
   "source": [
    "df['debt_to_income_ratio'] = df['debt_to_income_ratio'].astype(str)\n",
    "def average_dti_range(dti_value):\n",
    "    if pd.isna(dti_value) or dti_value == 'nan' or dti_value == 'Exempt':\n",
    "        return np.nan\n",
    "\n",
    "    range_pattern = r'(\\d+)%-<(\\d+)%|(\\d+)%-(\\d+)%'\n",
    "    less_than_pattern = r'<(\\d+)%'\n",
    "    greater_than_pattern = r'>(\\d+)%'\n",
    "    \n",
    "    if re.match(range_pattern, dti_value):\n",
    "        bounds = re.findall(range_pattern, dti_value)[0]\n",
    "        bounds = [float(b) for b in bounds if b]\n",
    "        lower_bound, upper_bound = bounds\n",
    "        return (lower_bound + upper_bound) / 2\n",
    "    elif re.match(less_than_pattern, dti_value):\n",
    "        upper_bound = re.findall(less_than_pattern, dti_value)[0][0]\n",
    "        upper_bound = float(upper_bound)\n",
    "        return upper_bound / 2\n",
    "    elif re.match(greater_than_pattern, dti_value):\n",
    "        lower_bound = re.findall(greater_than_pattern, dti_value)[0][0]\n",
    "        lower_bound = float(lower_bound)\n",
    "        return lower_bound * 1.1\n",
    "    else:\n",
    "        return float(dti_value.replace('%', ''))"
   ]
  },
  {
   "cell_type": "code",
   "execution_count": 4,
   "metadata": {},
   "outputs": [],
   "source": [
    "df_ny = df[(df[\"state_code\"] == 'NY')]\n",
    "\n",
    "df_ny = df_ny[df_ny['derived_loan_product_type'] == 'Conventional:First Lien']\n",
    "df_ny = df_ny.loc[df_ny['loan_purpose'].isin([1])]\n",
    "df_ny = df_ny.loc[df_ny['business_or_commercial_purpose'].isin([2])]\n",
    "df_ny = df_ny[df_ny['derived_dwelling_category'] == 'Single Family (1-4 Units):Site-Built']\n",
    "df_ny = df_ny.loc[df_ny['occupancy_type'].isin([1])]\n",
    "df_ny = df_ny[df_ny[\"combined_loan_to_value_ratio\"].str.contains(\"Exempt\") == False]\n",
    "df_ny['combined_loan_to_value_ratio'] = df_ny['combined_loan_to_value_ratio'].astype(str).astype(float)\n",
    "#df_ny['interest_rate'] = df_ny['interest_rate'].astype(str).astype(float)\n",
    "df_ny['property_value'] = df_ny['property_value'].astype(str).astype(float)\n",
    "df_ny = df_ny.loc[df_ny['action_taken'].isin([1,3])]\n",
    "df_ny = df_ny.loc[df_ny['applicant_race_1'].isin([1,2,3,4,5])]\n",
    "df_ny['action_taken'] = df['action_taken'].replace({3: 0})\n",
    "df_ny['debt_to_income_ratio'] = df_ny['debt_to_income_ratio'].apply(average_dti_range)"
   ]
  },
  {
   "cell_type": "code",
   "execution_count": 5,
   "metadata": {},
   "outputs": [],
   "source": [
    "selected_features = ['income', 'debt_to_income_ratio', 'loan_amount', 'combined_loan_to_value_ratio', 'property_value','action_taken','applicant_race_1']\n",
    "columns_to_drop = [col for col in df_ny.columns if col not in selected_features]\n",
    "df_ny = df_ny.drop(columns=columns_to_drop)"
   ]
  },
  {
   "cell_type": "code",
   "execution_count": 6,
   "metadata": {},
   "outputs": [],
   "source": [
    "df_ny.dropna(inplace=True)"
   ]
  },
  {
   "cell_type": "code",
   "execution_count": 7,
   "metadata": {},
   "outputs": [
    {
     "name": "stdout",
     "output_type": "stream",
     "text": [
      "Fitting 5 folds for each of 972 candidates, totalling 4860 fits\n",
      "Best Hyperparameters: {'colsample_bytree': 1, 'gamma': 0, 'learning_rate': 0.2, 'max_depth': 10, 'min_child_weight': 1, 'n_estimators': 200, 'subsample': 0.8}\n",
      "Accuracy: 0.9400665926748057\n",
      "Balanced Accuracy: 0.643245447132373\n",
      "Classification Report:\n",
      "               precision    recall  f1-score   support\n",
      "\n",
      "           0       0.47      0.31      0.37       364\n",
      "           1       0.96      0.98      0.97      5943\n",
      "\n",
      "    accuracy                           0.94      6307\n",
      "   macro avg       0.71      0.64      0.67      6307\n",
      "weighted avg       0.93      0.94      0.93      6307\n",
      "\n",
      "AUC-ROC: 0.643245447132373\n"
     ]
    }
   ],
   "source": [
    "\n",
    "\n",
    "# Feature scaling\n",
    "scaler = StandardScaler()\n",
    "df_ny[['income', 'debt_to_income_ratio', 'loan_amount', 'combined_loan_to_value_ratio', 'property_value', 'applicant_race_1']] = scaler.fit_transform(df_ny[['income', 'debt_to_income_ratio', 'loan_amount', 'combined_loan_to_value_ratio', 'property_value', 'applicant_race_1']])\n",
    "\n",
    "# Split the dataset\n",
    "X = df_ny.drop(columns=['action_taken'])\n",
    "y = df_ny['action_taken']\n",
    "X_train, X_test, y_train, y_test = train_test_split(X, y, test_size=0.2, random_state=42)\n",
    "\n",
    "# Apply SMOTE and Tomek Links\n",
    "smote_tomek = SMOTETomek(random_state=42)\n",
    "X_train_smote_tomek, y_train_smote_tomek = smote_tomek.fit_resample(X_train, y_train)\n",
    "\n",
    "\n",
    "# Create the XGBoost model with the appropriate hyperparameters for balancing\n",
    "xgb_model = xgb.XGBClassifier(scale_pos_weight=1, random_state=42)\n",
    "\n",
    "# Specify the hyperparameters and their possible values\n",
    "params = {\n",
    "    'learning_rate': [0.01, 0.1, 0.2],\n",
    "    'n_estimators': [50, 100, 200],\n",
    "    'max_depth': [3, 6, 10],\n",
    "    'min_child_weight': [1, 3, 5],\n",
    "    'gamma': [0, 0.1, 0.2],\n",
    "    'subsample': [0.8, 1],\n",
    "    'colsample_bytree': [0.8, 1]\n",
    "}\n",
    "\n",
    "# Perform grid search with cross-validation and parallelization\n",
    "grid_search = GridSearchCV(xgb_model, params, cv=5, verbose=1, scoring='roc_auc', n_jobs=-1)\n",
    "grid_search.fit(X_train_smote_tomek, y_train_smote_tomek)\n",
    "\n",
    "# Print the best hyperparameters\n",
    "print(\"Best Hyperparameters:\", grid_search.best_params_)\n",
    "\n",
    "# Model evaluation\n",
    "y_pred = grid_search.predict(X_test)\n",
    "print(\"Accuracy:\", accuracy_score(y_test, y_pred))\n",
    "print(\"Balanced Accuracy:\", balanced_accuracy_score(y_test, y_pred))\n",
    "print(\"Classification Report:\\n\", classification_report(y_test, y_pred))\n",
    "print(\"AUC-ROC:\", roc_auc_score(y_test, y_pred))\n",
    "\n",
    "# Demographic parity analysis for the XGBoost model\n",
    "# ...\n"
   ]
  },
  {
   "cell_type": "code",
   "execution_count": 8,
   "metadata": {},
   "outputs": [
    {
     "name": "stdout",
     "output_type": "stream",
     "text": [
      "Demographic Parity Analysis (Random Forest Model):\n",
      "           loan_approval  prediction_proba  prediction\n",
      "race                                                  \n",
      "-2.970009       0.857143          0.952392    1.000000\n",
      "-2.098390       0.931996          0.930634    0.965440\n",
      "-1.226772       0.905109          0.852042    0.905109\n",
      "-0.355154       0.555556          0.649794    0.666667\n",
      " 0.516464       0.948408          0.933796    0.966747\n",
      "Max difference in approval rates between groups (Random Forest Model): 0.33333333333333337\n",
      "Is the random forest model fair? False\n"
     ]
    }
   ],
   "source": [
    "# Get the predicted probabilities\n",
    "y_pred_proba = grid_search.predict_proba(X_test)[:, 1]\n",
    "\n",
    "# Create a DataFrame with race, loan_approval (y_test), and prediction (y_pred)\n",
    "results = pd.DataFrame({'race': X_test['applicant_race_1'], 'loan_approval': y_test, 'prediction_proba': y_pred_proba, 'prediction': y_pred})\n",
    "\n",
    "# Group the results by race and compute the mean for loan_approval and prediction\n",
    "group_results = results.groupby('race').mean()\n",
    "\n",
    "# Print the demographic parity analysis\n",
    "print(\"Demographic Parity Analysis (Random Forest Model):\")\n",
    "print(group_results)\n",
    "\n",
    "# Calculate the difference in approval rates between the groups\n",
    "max_diff = abs(group_results['prediction'].max() - group_results['prediction'].min())\n",
    "print(\"Max difference in approval rates between groups (Random Forest Model):\", max_diff)\n",
    "\n",
    "# Set a fairness threshold (e.g., 0.05)\n",
    "fairness_threshold = 0.05\n",
    "is_fair = max_diff <= fairness_threshold\n",
    "print(\"Is the random forest model fair?\", is_fair)"
   ]
  },
  {
   "cell_type": "code",
   "execution_count": 9,
   "metadata": {},
   "outputs": [],
   "source": [
    "# Create a separate StandardScaler instance for 'applicant_race_1'\n",
    "race_scaler = StandardScaler()\n",
    "\n",
    "# Feature scaling\n",
    "scaler = StandardScaler()\n",
    "df_ny[['income', 'debt_to_income_ratio', 'loan_amount', 'combined_loan_to_value_ratio', 'property_value']] = scaler.fit_transform(df_ny[['income', 'debt_to_income_ratio', 'loan_amount', 'combined_loan_to_value_ratio', 'property_value']])\n",
    "df_ny['applicant_race_1'] = race_scaler.fit_transform(df_ny[['applicant_race_1']])\n",
    "\n",
    "# Inverse transform the 'applicant_race_1' column\n",
    "inverse_transformed_race = race_scaler.inverse_transform(df_ny['applicant_race_1'].values.reshape(-1, 1))\n",
    "\n",
    "# Convert the inverse transformed values back to a Pandas Series\n",
    "inverse_transformed_race = pd.Series(inverse_transformed_race.ravel())\n",
    "\n",
    "# Now you have the original 'applicant_race_1' values in 'inverse_transformed_race'\n"
   ]
  },
  {
   "cell_type": "code",
   "execution_count": 13,
   "metadata": {},
   "outputs": [
    {
     "data": {
      "text/plain": [
       "1           0.516464\n",
       "2           0.516464\n",
       "4           0.516464\n",
       "9           0.516464\n",
       "10          0.516464\n",
       "              ...   \n",
       "26124279    0.516464\n",
       "26124280    0.516464\n",
       "26124281    0.516464\n",
       "26124283    0.516464\n",
       "26124285   -2.098390\n",
       "Name: applicant_race_1, Length: 31534, dtype: float64"
      ]
     },
     "execution_count": 13,
     "metadata": {},
     "output_type": "execute_result"
    }
   ],
   "source": [
    "df_ny['applicant_race_1']"
   ]
  },
  {
   "cell_type": "code",
   "execution_count": 12,
   "metadata": {},
   "outputs": [
    {
     "data": {
      "text/plain": [
       "array([ 0.51646438, -2.09839048, -1.2267722 , -2.97000877, -0.35515391])"
      ]
     },
     "execution_count": 12,
     "metadata": {},
     "output_type": "execute_result"
    }
   ],
   "source": [
    "inverse_transformed_race.unique()"
   ]
  }
 ],
 "metadata": {
  "kernelspec": {
   "display_name": "Python 3",
   "language": "python",
   "name": "python3"
  },
  "language_info": {
   "codemirror_mode": {
    "name": "ipython",
    "version": 3
   },
   "file_extension": ".py",
   "mimetype": "text/x-python",
   "name": "python",
   "nbconvert_exporter": "python",
   "pygments_lexer": "ipython3",
   "version": "3.10.11"
  },
  "orig_nbformat": 4
 },
 "nbformat": 4,
 "nbformat_minor": 2
}
